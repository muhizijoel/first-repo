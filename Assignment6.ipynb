{
  "nbformat": 4,
  "nbformat_minor": 0,
  "metadata": {
    "colab": {
      "name": "Assignment6.ipynb",
      "provenance": [],
      "collapsed_sections": [],
      "include_colab_link": true
    },
    "kernelspec": {
      "name": "python3",
      "display_name": "Python 3"
    }
  },
  "cells": [
    {
      "cell_type": "markdown",
      "metadata": {
        "id": "view-in-github",
        "colab_type": "text"
      },
      "source": [
        "<a href=\"https://colab.research.google.com/github/muhizijoel/first-repo/blob/master/Assignment6.ipynb\" target=\"_parent\"><img src=\"https://colab.research.google.com/assets/colab-badge.svg\" alt=\"Open In Colab\"/></a>"
      ]
    },
    {
      "cell_type": "markdown",
      "metadata": {
        "id": "5MT5NAm6K80h",
        "colab_type": "text"
      },
      "source": [
        "<h1>\n",
        "Modeling temperature as a function of height<br>\n",
        "Joel Muhizi<br>\n",
        "Harrisburg University\n",
        "</h1>\n",
        "\n",
        "## Abstract\n",
        "This report documents the development and analysis of a model of height as a function of pressure given raw data collected by balloons. \n",
        "\n",
        "## Introduction\n",
        "\n",
        "### Problem statement\n",
        "In this assignment, there is a need to obtain temperature profiles of the atmosphere as a data pair of (height, temperature) [1]. In [1], the data collection method used, involves several balloons that are carrying a collection of sensors (temperature, pressure, ...). In order to minimize the cost of conducting the experiment, instead of including a GPS sensor (relatively expensive) on each ballon to capture the height, it is decided to equip most of the balloons with a temperature sensor and a pressure sensor (relatively cheaper). These balloons will send the data pair (pressure, temperature). Furthermore, it is decided that one balloon will be equiped with a sensor module that has a pressure sensor and a GPS. This balloon will transmit the data pair (pressure, height). With setup, we are asked to develop a model of the height as a function of the pressure, that will be used to predict the height at which a pressure reading was obtained.\n",
        "\n",
        "## Methods\n",
        "\n",
        "### Data collection\n",
        "We start with a dataset given by the professor at \n",
        "http://borealscicomp.com/Academic/HU/CISC614-LF19/Assignment06/fairbanks_sounding.dat. In order to retrieve the data, I am going to use a routine that was given by the professor in the assignment statement in [1]. When run with the url above, this routine fetches the dataset and returns the tuple (pressure, height), where pressure and height are both lists of pressure measurements and height measurements respectively.\n",
        "\n",
        "This data is in the format below [1]:\n",
        "P (hPa)  H (m)\n",
        "\n",
        " 988     581\n",
        "\n",
        " 958     647\n",
        "\n",
        " 974     820\n",
        "\n",
        " 927     721\n",
        "\n",
        " 866     889\n",
        "\n",
        "      .\n",
        "\n",
        "      .\n",
        "\n",
        "      .\n",
        "\n",
        "  51   20784\n",
        "\n",
        "  25   21355\n",
        "\n",
        "  13   23147\n",
        "\n",
        "\n",
        "\n",
        "\n",
        "\n",
        "\n"
      ]
    },
    {
      "cell_type": "code",
      "metadata": {
        "id": "bLtXWNKuOCz0",
        "colab_type": "code",
        "colab": {}
      },
      "source": [
        "import numpy as np\n",
        "import urllib\n",
        "from matplotlib import pyplot as plt\n",
        "import math\n",
        "\n",
        "def retrieve_pressure_height_data(the_url=None):\n",
        "\n",
        "    # Retrieve specified datafile that has the following format\n",
        "\n",
        "    \"\"\"\n",
        "\n",
        "    P (hPa)  H (m)\n",
        "\n",
        "    988     581\n",
        "\n",
        "    958     647\n",
        "\n",
        "    974     820\n",
        "\n",
        "    .\n",
        "\n",
        "    .\n",
        "\n",
        "    .\n",
        "\n",
        "    25   21355\n",
        "\n",
        "    13   23147\n",
        "\n",
        "    \"\"\"\n",
        "\n",
        "\n",
        "    # Make the request, expecting a raw HTML stream for response\n",
        "\n",
        "    try:\n",
        "\n",
        "        raw_content = urllib.request.urlopen(the_url).read().strip()\n",
        "\n",
        "    except:\n",
        "\n",
        "        print('Request failed: %s' % the_url)\n",
        "\n",
        "        return None\n",
        "\n",
        "\n",
        "    #print(raw_content)\n",
        "\n",
        "\n",
        "    # Convert the raw HTML stream to lines\n",
        "\n",
        "    lines = raw_content.decode('utf-8').split('\\n')\n",
        "\n",
        "\n",
        "    # Assume first line is header, and put the rest into arrays\n",
        "\n",
        "    pressure = np.ndarray((len(lines)-1))\n",
        "\n",
        "    height = np.ndarray((len(lines)-1))\n",
        "\n",
        "    for i in np.arange(1, len(lines)):\n",
        "\n",
        "        tokens = lines[i].split()\n",
        "\n",
        "        pressure[i-1] = float(tokens[0])\n",
        "\n",
        "        height[i-1] = float(tokens[1])\n",
        "\n",
        "\n",
        "    return pressure, height\n",
        "\n",
        "pressure, height = retrieve_pressure_height_data(the_url=\"http://borealscicomp.com/Academic/HU/CISC614-LF19/Assignment06/fairbanks_sounding.dat\")\n",
        "\n"
      ],
      "execution_count": 0,
      "outputs": []
    },
    {
      "cell_type": "markdown",
      "metadata": {
        "id": "KTZpQRYROf-i",
        "colab_type": "text"
      },
      "source": [
        "Next, I created a scatter plot in order to get a feel for what the data looks like."
      ]
    },
    {
      "cell_type": "code",
      "metadata": {
        "id": "54ut3x7POg65",
        "colab_type": "code",
        "colab": {
          "base_uri": "https://localhost:8080/",
          "height": 312
        },
        "outputId": "79475496-708f-4c82-e922-ed67cb36c235"
      },
      "source": [
        "fig, axs = plt.subplots()\n",
        "axs.scatter(pressure, height)\n",
        "axs.set_title('Height vs Pressure')\n",
        "axs.set_xlabel(\"Pressure (hPa)\")\n",
        "axs.set_ylabel(\"Height (m)\")"
      ],
      "execution_count": 59,
      "outputs": [
        {
          "output_type": "execute_result",
          "data": {
            "text/plain": [
              "Text(0, 0.5, 'Height (m)')"
            ]
          },
          "metadata": {
            "tags": []
          },
          "execution_count": 59
        },
        {
          "output_type": "display_data",
          "data": {
            "image/png": "[encoded data removed]",
            "text/plain": [
              "<Figure size 432x288 with 1 Axes>"
            ]
          },
          "metadata": {
            "tags": []
          }
        }
      ]
    },
    {
      "cell_type": "markdown",
      "metadata": {
        "id": "yTjyiETfOFQA",
        "colab_type": "text"
      },
      "source": [
        "\n",
        "\n",
        "\n",
        "### Model description\n",
        "\n",
        "**1. Model Linearization**\n",
        "\n",
        "By looking at the plot of the data, it seems like there is a exponential decay or power decay relationship between the pressure and the height.\n",
        "\n",
        "**Exponential model**:\n",
        "\n",
        "The first model that we are asked to evaluate is the exponential model:\n",
        "$$\n",
        "\\begin{equation}\n",
        "h = ae^{bP}\n",
        "\\tag{1}\n",
        "\\end{equation}\n",
        "$$\n",
        "where h is the height and p the pressure [1].\n",
        "In order to find the values of a and b, I linearized the equation into the form:\n",
        "$$\n",
        "\\begin{equation}\n",
        "log(h) = log(a) + bP\n",
        "\\tag{2}\n",
        "\\end{equation}\n",
        "$$\n",
        "\n",
        "**Power model**:\\\n",
        "The second model we are asked to evaluate is the power model:\n",
        "\\begin{equation}h = aP^b\\tag{3}\\end{equation}\n",
        "Similary, I linearized the equation into the form:\n",
        "\\begin{equation}log(h) = log(a) + b*log(P)\\tag{4}\\end{equation}\n",
        "\n",
        "Then I plotted the scatter plots of the linearized exponential model and the power model as shown below:\n",
        "\n",
        "\n",
        "\n",
        "\n",
        "\n",
        "\n"
      ]
    },
    {
      "cell_type": "code",
      "metadata": {
        "id": "sWyGkwWdYTiQ",
        "colab_type": "code",
        "colab": {
          "base_uri": "https://localhost:8080/",
          "height": 590
        },
        "outputId": "85bd79d0-2d7a-457b-f9bf-ece116446b05"
      },
      "source": [
        "\n",
        "ax = plt.subplot()\n",
        "ax.scatter(pressure, np.log(height))\n",
        "ax.set_title('Linearized exponential model')\n",
        "ax.set_xlabel(\"Pressure (hPa)\")\n",
        "ax.set_ylabel(\"Log(Height)\")\n",
        "ax.set_ylim(0, 11)\n",
        "ax.set_xlim(0, 3000)\n",
        "\n",
        "\n",
        "\n",
        "plt.figure()\n",
        "ax2 = plt.subplot()\n",
        "ax2.scatter(np.log(pressure), np.log(height))\n",
        "ax2.set_title('Linearized power model')\n",
        "ax2.set_xlabel(\"Log(Pressure)\")\n",
        "ax2.set_ylabel(\"Log(Height)\")\n",
        "ax2.set_ylim(0, 20)\n",
        "ax2.set_xlim(0, 20)\n",
        "\n"
      ],
      "execution_count": 60,
      "outputs": [
        {
          "output_type": "execute_result",
          "data": {
            "text/plain": [
              "(0, 20)"
            ]
          },
          "metadata": {
            "tags": []
          },
          "execution_count": 60
        },
        {
          "output_type": "display_data",
          "data": {
            "image/png": "[encoded data removed]",
            "text/plain": [
              "<Figure size 432x288 with 1 Axes>"
            ]
          },
          "metadata": {
            "tags": []
          }
        },
        {
          "output_type": "display_data",
          "data": {
            "image/png": "[encoded data removed]",
            "text/plain": [
              "<Figure size 432x288 with 1 Axes>"
            ]
          },
          "metadata": {
            "tags": []
          }
        }
      ]
    },
    {
      "cell_type": "markdown",
      "metadata": {
        "id": "haCLRZ8qj01k",
        "colab_type": "text"
      },
      "source": [
        "**1. Visual/graphical estimation of intercepts**\n",
        "\n",
        "By using the graphical estimation method, I was able to deduce the following intercepts of the best fit:\\\n",
        "**Exponential model:**\n",
        "* x_intercept = 2750\n",
        "* y_intercept = 10\n",
        "\n",
        "By using the y_intercept into eq. (2):\n",
        "$$\n",
        "\\begin{align*}\n",
        "y\\_intercept &= log(a) + b*0 \\\\\n",
        "y\\_intercept &= log(a) \\\\\n",
        "e^{y\\_intercept} &= a \\\\\n",
        "a &= 22026.465 \\\\\n",
        "\\end{align*} \n",
        "$$\n",
        "Then we plug the value of a and the x_intercept into eq. (2): \\\n",
        "$$\n",
        "\\begin{align*}\n",
        "0 &= log(a) + b*x\\_intercept \\\\\n",
        "b &= \\frac{-log(a)}{x\\_intercept}\\\\\n",
        "b &= \\frac{-10}{2750} \\\\\n",
        "b &= -0.00363\n",
        "\\end{align*}\n",
        "$$\n",
        "\n",
        "\n",
        "**Power model:**\n",
        "\n",
        "* x_intercept = 16.25\n",
        "* y_intercept = 13\n",
        "\n",
        "By using the y_intercept into eq. (4):\n",
        "$$\n",
        "\\begin{align*}\n",
        "y\\_intercept &= log(a) + b*0 \\\\\n",
        "y\\_intercept &= log(a) \\\\\n",
        "e^{y\\_intercept} &= a \\\\\n",
        "a &= 442413.392 \\\\\n",
        "\\end{align*} \n",
        "$$\n",
        "Then we plug the value of a and the x_intercept into eq. (4): \\\n",
        "$$\n",
        "\\begin{align*}\n",
        "0 &= 13 + b*x\\_intercept \\\\\n",
        "b &= \\frac{-13}{x\\_intercept}\\\\\n",
        "b &= \\frac{-13}{16.25} \\\\\n",
        "b &= -0.8\n",
        "\\end{align*}\n",
        "$$\n",
        "\n"
      ]
    },
    {
      "cell_type": "code",
      "metadata": {
        "id": "VkGL9keEv95O",
        "colab_type": "code",
        "colab": {
          "base_uri": "https://localhost:8080/",
          "height": 590
        },
        "outputId": "7ef15b3d-d00f-423f-e528-079064a8700f"
      },
      "source": [
        "log_a1 = 10\n",
        "b1 = -0.00363\n",
        "x1 = np.arange(0, 1200)\n",
        "y1 = b1*x1 + log_a1\n",
        "ax = plt.subplot()\n",
        "ax.scatter(pressure, np.log(height))\n",
        "ax.plot(x1, y1)\n",
        "ax.set_title('Linearized exponential model')\n",
        "ax.set_xlabel(\"Pressure (hPa)\")\n",
        "ax.set_ylabel(\"Log(Height)\")\n",
        "ax.set_ylim(5, 11)\n",
        "ax.set_xlim(0, 1200)\n",
        "\n",
        "log_a2 = 13\n",
        "b2 = -0.8\n",
        "x2 = np.arange(0, 10)\n",
        "y2 = b2*x2 + log_a2\n",
        "\n",
        "plt.figure()\n",
        "ax2 = plt.subplot()\n",
        "ax2.scatter(np.log(pressure), np.log(height))\n",
        "ax2.plot(x2, y2)\n",
        "ax2.set_title('Linearized power model')\n",
        "ax2.set_xlabel(\"Log(Pressure)\")\n",
        "ax2.set_ylabel(\"Log(Height)\")\n",
        "ax2.set_ylim(5, 11)\n",
        "ax2.set_xlim(0, 9)"
      ],
      "execution_count": 72,
      "outputs": [
        {
          "output_type": "execute_result",
          "data": {
            "text/plain": [
              "(0, 9)"
            ]
          },
          "metadata": {
            "tags": []
          },
          "execution_count": 72
        },
        {
          "output_type": "display_data",
          "data": {
            "image/png": "[encoded data removed]",
            "text/plain": [
              "<Figure size 432x288 with 1 Axes>"
            ]
          },
          "metadata": {
            "tags": []
          }
        },
        {
          "output_type": "display_data",
          "data": {
            "image/png": "[encoded data removed]",
            "text/plain": [
              "<Figure size 432x288 with 1 Axes>"
            ]
          },
          "metadata": {
            "tags": []
          }
        }
      ]
    },
    {
      "cell_type": "markdown",
      "metadata": {
        "id": "N5uASpHVYV1w",
        "colab_type": "text"
      },
      "source": [
        "## Results\n",
        "\n",
        "## Conclusion\n",
        "\n",
        "## References\n",
        "\n",
        "[1] Assignment 06 Specifications. (n.d.). Retrieved from https://docs.google.com/document/d/e/2PACX-1vQ_pntgVTJdNdjH1rIfPDE1bFCho3Ccs8LX6C8tRz-LjbrRdfGhmJnSr3xPnx43RiKMdsHRjTC9swIv/pub\n"
      ]
    }
  ]
}